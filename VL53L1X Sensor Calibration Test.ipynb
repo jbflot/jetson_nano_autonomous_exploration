{
 "cells": [
  {
   "cell_type": "markdown",
   "id": "valuable-shelter",
   "metadata": {},
   "source": [
    "## VL53L1X Sensor Calibration\n",
    "\n",
    "The code below initializes the VL53L1X Distance Sensor and outputs 10 sensor readings (1 per second for 10 seconds). The ``range_value`` variable controls whether the distance sensor is calibrated for short, medium, or long distance ranges and may be modified based on your environment. Use this sample code to ensure that your VL53L1X Distance Sensor is working and properly calibrated for your environment."
   ]
  },
  {
   "cell_type": "code",
   "execution_count": null,
   "id": "radio-stephen",
   "metadata": {},
   "outputs": [],
   "source": [
    "import time\n",
    "from smbus2 import SMBus\n",
    "from VL53L1X import VL53L1X\n",
    "\n",
    "print(\"Starting the program...\")\n",
    "\n",
    "bus_number = 0\n",
    "\n",
    "print(\"Initializing the VL53L1X sensor...\")\n",
    "# Create a VL53L1X instance with the bus number\n",
    "tof = VL53L1X(i2c_bus=bus_number)\n",
    "\n",
    "# Initialize the sensor\n",
    "tof.open()\n",
    "\n",
    "# 0 = Unchanged\n",
    "# 1 = Short Range\n",
    "# 2 = Medium Range\n",
    "# 3 = Long Range\n",
    "tof.start_ranging(3)\n",
    "\n",
    "print(\"Starting to read sensor values...\")\n",
    "try:\n",
    "    for i in range(10):  # Limiting to 10 readings for now\n",
    "        distance = tof.get_distance()\n",
    "        print(f\"Reading {i + 1}: Distance = {distance}mm\")\n",
    "        time.sleep(1)\n",
    "except Exception as e:\n",
    "    print(\"An error occurred:\", e)\n",
    "finally:\n",
    "    tof.stop_ranging()\n",
    "    tof.close()\n",
    "\n",
    "print(\"Program finished.\")"
   ]
  }
 ],
 "metadata": {
  "kernelspec": {
   "display_name": "Python 3",
   "language": "python",
   "name": "python3"
  },
  "language_info": {
   "codemirror_mode": {
    "name": "ipython",
    "version": 3
   },
   "file_extension": ".py",
   "mimetype": "text/x-python",
   "name": "python",
   "nbconvert_exporter": "python",
   "pygments_lexer": "ipython3",
   "version": "3.6.9"
  }
 },
 "nbformat": 4,
 "nbformat_minor": 5
}
